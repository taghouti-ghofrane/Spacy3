{
  "nbformat": 4,
  "nbformat_minor": 0,
  "metadata": {
    "colab": {
      "name": "Spacy_Transformers.ipynb",
      "private_outputs": true,
      "provenance": [],
      "collapsed_sections": []
    },
    "kernelspec": {
      "name": "python3",
      "display_name": "Python 3"
    },
    "accelerator": "GPU"
  },
  "cells": [
    {
      "cell_type": "code",
      "metadata": {
        "id": "n6XfYv6MlVNg"
      },
      "source": [
        " pip install torch==1.7.1+cu101 torchvision==0.8.2+cu101 torchaudio==0.7.2 -f https://download.pytorch.org/whl/torch_stable.html"
      ],
      "execution_count": null,
      "outputs": []
    },
    {
      "cell_type": "code",
      "metadata": {
        "id": "CN8JRAevtHZL"
      },
      "source": [
        "pip install transformers[sentencepiece]"
      ],
      "execution_count": null,
      "outputs": []
    },
    {
      "cell_type": "code",
      "metadata": {
        "id": "mfDWLcVMtMZx"
      },
      "source": [
        "pip install -U spacy"
      ],
      "execution_count": null,
      "outputs": []
    },
    {
      "cell_type": "code",
      "metadata": {
        "id": "JfC0qgfnw74y"
      },
      "source": [
        "!python -m spacy download en_core_web_trf"
      ],
      "execution_count": null,
      "outputs": []
    },
    {
      "cell_type": "code",
      "metadata": {
        "id": "wp1lsLV6x0gG"
      },
      "source": [
        "pip install cupy"
      ],
      "execution_count": null,
      "outputs": []
    },
    {
      "cell_type": "code",
      "metadata": {
        "id": "8NHn04VLxPhU"
      },
      "source": [
        "import spacy\r\n",
        "from thinc.api import set_gpu_allocator, require_gpu\r\n",
        "\r\n",
        "# Use the GPU, with memory allocations directed via PyTorch.\r\n",
        "# This prevents out-of-memory errors that would otherwise occur from competing\r\n",
        "# memory pools.\r\n",
        "set_gpu_allocator(\"pytorch\")\r\n",
        "require_gpu(0)\r\n",
        "\r\n",
        "\r\n"
      ],
      "execution_count": null,
      "outputs": []
    },
    {
      "cell_type": "code",
      "metadata": {
        "id": "RH8kVPqsIPN_"
      },
      "source": [
        "print(nlp.pipe_names)"
      ],
      "execution_count": null,
      "outputs": []
    },
    {
      "cell_type": "markdown",
      "metadata": {
        "id": "FPIwUfvNZptQ"
      },
      "source": [
        "**AS we can see we Have Transformer in Our Pipeline** "
      ]
    },
    {
      "cell_type": "code",
      "metadata": {
        "id": "gHmlKw1RdWIG"
      },
      "source": [
        "pip install -U spacy[transformers]"
      ],
      "execution_count": null,
      "outputs": []
    },
    {
      "cell_type": "code",
      "metadata": {
        "id": "0619Rd3QfNqs"
      },
      "source": [
        "nlp.remove_pipe(\"transformer\")"
      ],
      "execution_count": null,
      "outputs": []
    },
    {
      "cell_type": "code",
      "metadata": {
        "id": "LpdaJjjSfV7b"
      },
      "source": [
        "print(nlp.pipe_names)"
      ],
      "execution_count": null,
      "outputs": []
    },
    {
      "cell_type": "code",
      "metadata": {
        "id": "33m3A_Mae9Xf"
      },
      "source": [
        "import spacy\r\n",
        "from spacy_transformers.pipeline_component import DEFAULT_CONFIG\r\n",
        "nlp = spacy.blank(\"en\")\r\n",
        "transformer = nlp.add_pipe(\"transformer\", config=DEFAULT_CONFIG[\"transformer\"])\r\n",
        "transformer.model.initialize([nlp.make_doc(\"hello world\")])\r\n",
        "doc = nlp(\"This is a sentence.\")"
      ],
      "execution_count": null,
      "outputs": []
    },
    {
      "cell_type": "code",
      "metadata": {
        "id": "o4hzYm0ChFJG"
      },
      "source": [
        "print(nlp.pipe_names)"
      ],
      "execution_count": null,
      "outputs": []
    },
    {
      "cell_type": "code",
      "metadata": {
        "id": "jMlYD1jokGf1"
      },
      "source": [
        "print(DEFAULT_CONFIG)"
      ],
      "execution_count": null,
      "outputs": []
    },
    {
      "cell_type": "code",
      "metadata": {
        "id": "4Sfeyl5CoEem"
      },
      "source": [
        ""
      ],
      "execution_count": null,
      "outputs": []
    }
  ]
}